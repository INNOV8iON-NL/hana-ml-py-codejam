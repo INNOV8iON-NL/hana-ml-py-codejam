{
 "cells": [
  {
   "attachments": {},
   "cell_type": "markdown",
   "id": "4bcc6ef9",
   "metadata": {},
   "source": [
    "## Check SAP HANA Client for Python is installed"
   ]
  },
  {
   "cell_type": "code",
   "execution_count": 1,
   "id": "c6866fbf-5ca6-45a5-a234-d0ad3db16545",
   "metadata": {},
   "outputs": [
    {
     "name": "stdout",
     "output_type": "stream",
     "text": [
      "SAP HANA Client for Python: 2.21.24062400\n"
     ]
    }
   ],
   "source": [
    "import hana_ml \n",
    "print(f\"SAP HANA Client for Python: {hana_ml.__version__}\")"
   ]
  },
  {
   "cell_type": "code",
   "execution_count": 2,
   "id": "4c3070a7",
   "metadata": {},
   "outputs": [
    {
     "data": {
      "text/html": [
       "<iframe width=\"560\" height=\"315\" src=\"https://www.youtube.com/watch?v=CHekzSiZjrY\" title=\"YouTube video player\" frameborder=\"0\" allow=\"accelerometer; autoplay; clipboard-write; encrypted-media; gyroscope; picture-in-picture\" allowfullscreen></iframe>\n"
      ],
      "text/plain": [
       "<IPython.core.display.HTML object>"
      ]
     },
     "metadata": {},
     "output_type": "display_data"
    }
   ],
   "source": [
    "%%html\n",
    "<iframe width=\"560\" height=\"315\" src=\"https://www.youtube.com/watch?v=CHekzSiZjrY\" title=\"YouTube video player\" frameborder=\"0\" allow=\"accelerometer; autoplay; clipboard-write; encrypted-media; gyroscope; picture-in-picture\" allowfullscreen></iframe>"
   ]
  },
  {
   "attachments": {},
   "cell_type": "markdown",
   "id": "57d22639",
   "metadata": {},
   "source": [
    "The latest version and its documentation can be checked at https://pypi.org/project/hana-ml/#history"
   ]
  },
  {
   "attachments": {},
   "cell_type": "markdown",
   "id": "bd79a425",
   "metadata": {},
   "source": [
    "## Load the user connection data and connect to the SAP HANA database instance\n",
    "\n",
    "👉🏻 Before running the next cell make sure:\n",
    "\n",
    "1. [./00-setup/temp_user.ini](00-setup/temp_user.ini) is copied to [./00-setup/user.ini](00-setup/user.ini) and \n",
    "2. the user and the password given to you by the instructor are updated in `user.ini` file \n",
    "\n",
    "👆🏻\n",
    "\n",
    "👇🏼\n",
    "![Set user](00-setup/img/check_userini02.png)"
   ]
  },
  {
   "cell_type": "code",
   "execution_count": 2,
   "id": "d94aaec7",
   "metadata": {},
   "outputs": [
    {
     "name": "stdout",
     "output_type": "stream",
     "text": [
      "The file './00-setup/user.ini' exists.\n",
      "Connection to SAP HANA db at 10defde5-d6c6-4713-bed0-4f012c6d16d8.hna0.prod-eu20.hanacloud.ondemand.com:443 \n",
      "will be attempted for the user INNOV8ION_USER2\n"
     ]
    }
   ],
   "source": [
    "import os, sys\n",
    "\n",
    "file_path = './00-setup/user.ini'  # Replace this with the path to your file\n",
    "\n",
    "if os.path.exists(file_path):\n",
    "    print(f\"The file '{file_path}' exists.\")\n",
    "    from hana_ml.algorithms.pal.utility import Settings\n",
    "    myhost, myport, myuser, mypwd = Settings.load_config(file_path)\n",
    "    if myhost == '' or myport == 0 or myuser == '' or mypwd == '':\n",
    "        print(\"At least one required connection parameter is empty.\")\n",
    "    else:\n",
    "        print(f\"Connection to SAP HANA db at {myhost}:{myport} \\nwill be attempted for the user {myuser}\")\n",
    "else:\n",
    "    sys.exit(f\"The file '{file_path}' does not exist! Create and configure it first.\")\n",
    "    \n"
   ]
  },
  {
   "cell_type": "code",
   "execution_count": 3,
   "id": "442c848b-c11e-4115-89fe-7336b15681ae",
   "metadata": {},
   "outputs": [
    {
     "name": "stdout",
     "output_type": "stream",
     "text": [
      "Connected to SAP HANA db version 4.00.000.00.1722339764 (fa/CE2024.14) \n",
      "at 10defde5-d6c6-4713-bed0-4f012c6d16d8.hna0.prod-eu20.hanacloud.ondemand.com:443 as user INNOV8ION_USER2\n"
     ]
    }
   ],
   "source": [
    "from hana_ml import dataframe as hdf\n",
    "myconn=hdf.ConnectionContext(\n",
    "    address=myhost, \n",
    "    port=myport, \n",
    "    user=myuser,\n",
    "    password=mypwd\n",
    ")\n",
    "print(f\"Connected to SAP HANA db version {myconn.hana_version()} \\nat {myhost}:{myport} as user {myuser}\")"
   ]
  },
  {
   "attachments": {},
   "cell_type": "markdown",
   "id": "0235f6c2",
   "metadata": {},
   "source": [
    "## Execute an SQL query on SAP HANA database and get the result displayed"
   ]
  },
  {
   "cell_type": "code",
   "execution_count": 4,
   "id": "19475af6-6e12-4fb3-8df9-50ce54de9194",
   "metadata": {},
   "outputs": [
    {
     "name": "stdout",
     "output_type": "stream",
     "text": [
      "Current time on the SAP HANA server: 2024-11-11 20:15:57.040000\n"
     ]
    }
   ],
   "source": [
    "print(f'Current time on the SAP HANA server: {myconn.sql(\"SELECT NOW() FROM DUMMY\").collect().CURRENT_TIMESTAMP[0]}')"
   ]
  },
  {
   "attachments": {},
   "cell_type": "markdown",
   "id": "9bfd54f6",
   "metadata": {},
   "source": [
    "🤓 **Let's discuss**:\n",
    "1. SAP HANA Client: https://help.sap.com/docs/SAP_HANA_CLIENT\n",
    "1. SAP HANA Client's Python driver: https://help.sap.com/docs/SAP_HANA_CLIENT/f1b440ded6144a54ada97ff95dac7adf/f3b8fabf34324302b123297cdbe710f0.html\n",
    "1. Python Machine Learning Client for SAP HANA: https://help.sap.com/doc/cd94b08fe2e041c2ba778374572ddba9/2023_1_QRC/en-US/hana_ml.html"
   ]
  }
 ],
 "metadata": {
  "kernelspec": {
   "display_name": "Python 3 (ipykernel)",
   "language": "python",
   "name": "python3"
  },
  "language_info": {
   "codemirror_mode": {
    "name": "ipython",
    "version": 3
   },
   "file_extension": ".py",
   "mimetype": "text/x-python",
   "name": "python",
   "nbconvert_exporter": "python",
   "pygments_lexer": "ipython3",
   "version": "3.11.2"
  }
 },
 "nbformat": 4,
 "nbformat_minor": 5
}
