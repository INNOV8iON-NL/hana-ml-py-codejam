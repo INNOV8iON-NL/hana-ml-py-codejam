{
 "cells": [
  {
   "attachments": {},
   "cell_type": "markdown",
   "id": "4bcc6ef9",
   "metadata": {},
   "source": [
    "## Check the setup and connect to the database"
   ]
  },
  {
   "cell_type": "markdown",
   "id": "3a0183ba",
   "metadata": {},
   "source": [
    "Check if your connection with HANA DB is still active."
   ]
  },
  {
   "cell_type": "code",
   "execution_count": 1,
   "id": "75d9ce4c",
   "metadata": {},
   "outputs": [
    {
     "name": "stdout",
     "output_type": "stream",
     "text": [
      "SAP HANA Client for Python: 2.21.24062400\n",
      "The file './00-setup/user.ini' exists.\n",
      "Connection to SAP HANA db at a0f81553-537d-4e3a-808d-fe370ba4095a.hana.prod-eu20.hanacloud.ondemand.com:443 \n",
      "will be attempted for the user INNOV8ION_USER2\n",
      "Connected to SAP HANA db version 4.00.000.00.1732009081 (fa/CE2024.28) \n",
      "at a0f81553-537d-4e3a-808d-fe370ba4095a.hana.prod-eu20.hanacloud.ondemand.com:443 as user INNOV8ION_USER2\n",
      "Current time on the SAP HANA server: 2024-12-12 14:12:28.322000\n"
     ]
    }
   ],
   "source": [
    "%run 'exercise1-check_setup.ipynb'"
   ]
  },
  {
   "cell_type": "markdown",
   "id": "13633524",
   "metadata": {},
   "source": [
    "## Use HANA DataFrame and Pandas DataFrame"
   ]
  },
  {
   "cell_type": "markdown",
   "id": "256bcda0",
   "metadata": {},
   "source": [
    "Check which tables are available in schema **DB1**. Table **TITANIC** contains all historical data including the **SURVIVED** column. **TITANIC_TEST** contains fictional testing data (without the **SURVIVED** column). **TITANIC_TRUTH** contains the same data as **TITANIC_TEST**, and it also contains the **SURVIDED** column."
   ]
  },
  {
   "cell_type": "code",
   "execution_count": 2,
   "id": "fc84b745",
   "metadata": {},
   "outputs": [
    {
     "data": {
      "text/html": [
       "<div>\n",
       "<style scoped>\n",
       "    .dataframe tbody tr th:only-of-type {\n",
       "        vertical-align: middle;\n",
       "    }\n",
       "\n",
       "    .dataframe tbody tr th {\n",
       "        vertical-align: top;\n",
       "    }\n",
       "\n",
       "    .dataframe thead th {\n",
       "        text-align: right;\n",
       "    }\n",
       "</style>\n",
       "<table border=\"1\" class=\"dataframe\">\n",
       "  <thead>\n",
       "    <tr style=\"text-align: right;\">\n",
       "      <th></th>\n",
       "      <th>TABLE_NAME</th>\n",
       "    </tr>\n",
       "  </thead>\n",
       "  <tbody>\n",
       "    <tr>\n",
       "      <th>0</th>\n",
       "      <td>TITANIC</td>\n",
       "    </tr>\n",
       "    <tr>\n",
       "      <th>1</th>\n",
       "      <td>TITANIC_TEST</td>\n",
       "    </tr>\n",
       "    <tr>\n",
       "      <th>2</th>\n",
       "      <td>TITANIC_TRUTH</td>\n",
       "    </tr>\n",
       "  </tbody>\n",
       "</table>\n",
       "</div>"
      ],
      "text/plain": [
       "      TABLE_NAME\n",
       "0        TITANIC\n",
       "1   TITANIC_TEST\n",
       "2  TITANIC_TRUTH"
      ]
     },
     "execution_count": 2,
     "metadata": {},
     "output_type": "execute_result"
    }
   ],
   "source": [
    "myconn.get_tables(schema='DB_1')"
   ]
  },
  {
   "attachments": {},
   "cell_type": "markdown",
   "id": "ccab43d3",
   "metadata": {},
   "source": [
    "A table with data already exist in your SAP HANA database, so you use [the `table()` method](https://help.sap.com/doc/cd94b08fe2e041c2ba778374572ddba9/2023_3_QRC/en-US/hana_ml.dataframe.html#hana_ml.dataframe.ConnectionContext.table) to create a HANA DataFrame from an existing database table. "
   ]
  },
  {
   "cell_type": "code",
   "execution_count": 3,
   "id": "1a034d0f",
   "metadata": {},
   "outputs": [],
   "source": [
    "hdf_train=myconn.table('TITANIC', schema='DB_1')"
   ]
  },
  {
   "attachments": {},
   "cell_type": "markdown",
   "id": "ff9b0de9-c500-4b51-8d7c-8e635fb243b5",
   "metadata": {},
   "source": [
    "You can always use [the `select_statement` property](https://help.sap.com/doc/cd94b08fe2e041c2ba778374572ddba9/2023_3_QRC/en-US/hana_ml.dataframe.html#hana_ml.dataframe.DataFrame) to check the SQL SELECT statement that backs a HANA DataFrame. "
   ]
  },
  {
   "cell_type": "code",
   "execution_count": 4,
   "id": "efe50e14",
   "metadata": {},
   "outputs": [
    {
     "data": {
      "text/plain": [
       "'SELECT * FROM \"DB_1\".\"TITANIC\"'"
      ]
     },
     "execution_count": 4,
     "metadata": {},
     "output_type": "execute_result"
    }
   ],
   "source": [
    "hdf_train.select_statement"
   ]
  },
  {
   "cell_type": "markdown",
   "id": "bc91cab5-9616-4f94-8d3f-63b80710d577",
   "metadata": {},
   "source": [
    "HANA DataFrame represents only SQL SELECT statement, but does not store data..."
   ]
  },
  {
   "cell_type": "code",
   "execution_count": 8,
   "id": "ef820a1b",
   "metadata": {},
   "outputs": [],
   "source": [
    "hdf_train_first10recs=hdf_train.head(10)"
   ]
  },
  {
   "cell_type": "code",
   "execution_count": 9,
   "id": "5a8d55bf-491e-44b9-9270-7d4d9b7f6d60",
   "metadata": {},
   "outputs": [
    {
     "data": {
      "text/plain": [
       "'SELECT TOP 10 * FROM (SELECT * FROM \"DB_1\".\"TITANIC\") dt'"
      ]
     },
     "execution_count": 9,
     "metadata": {},
     "output_type": "execute_result"
    }
   ],
   "source": [
    "hdf_train_first10recs.select_statement"
   ]
  },
  {
   "cell_type": "markdown",
   "id": "b279daf3-4fd7-498a-9f45-a0729fb5589c",
   "metadata": {},
   "source": [
    "...until [a `collect()` method](https://help.sap.com/doc/cd94b08fe2e041c2ba778374572ddba9/2023_3_QRC/en-US/hana_ml.dataframe.html#hana_ml.dataframe.DataFrame.collect) is executed, which returns a result as a Pandas dataframe on a client side. The data is from data science competition website Kaggle (https://www.kaggle.com/competitions/titanic). More info is available on the meaning of the columns etc. here: https://www.kaggle.com/competitions/titanic/data."
   ]
  },
  {
   "cell_type": "code",
   "execution_count": 10,
   "id": "6a9f6952-0a76-4350-af87-a4215ca6d5aa",
   "metadata": {},
   "outputs": [
    {
     "data": {
      "text/html": [
       "<div>\n",
       "<style scoped>\n",
       "    .dataframe tbody tr th:only-of-type {\n",
       "        vertical-align: middle;\n",
       "    }\n",
       "\n",
       "    .dataframe tbody tr th {\n",
       "        vertical-align: top;\n",
       "    }\n",
       "\n",
       "    .dataframe thead th {\n",
       "        text-align: right;\n",
       "    }\n",
       "</style>\n",
       "<table border=\"1\" class=\"dataframe\">\n",
       "  <thead>\n",
       "    <tr style=\"text-align: right;\">\n",
       "      <th></th>\n",
       "      <th>PASSENGERID</th>\n",
       "      <th>SURVIVED</th>\n",
       "      <th>PCLASS</th>\n",
       "      <th>NAME</th>\n",
       "      <th>SEX</th>\n",
       "      <th>AGE</th>\n",
       "      <th>SIBSP</th>\n",
       "      <th>PARCH</th>\n",
       "      <th>TICKET</th>\n",
       "      <th>FARE</th>\n",
       "      <th>CABIN</th>\n",
       "      <th>EMBARKED</th>\n",
       "    </tr>\n",
       "  </thead>\n",
       "  <tbody>\n",
       "    <tr>\n",
       "      <th>0</th>\n",
       "      <td>1</td>\n",
       "      <td>0</td>\n",
       "      <td>3</td>\n",
       "      <td>Braund, Mr. Owen Harris</td>\n",
       "      <td>m</td>\n",
       "      <td>22.0</td>\n",
       "      <td>1</td>\n",
       "      <td>0</td>\n",
       "      <td>A/5 21171</td>\n",
       "      <td>7</td>\n",
       "      <td>None</td>\n",
       "      <td>S</td>\n",
       "    </tr>\n",
       "    <tr>\n",
       "      <th>1</th>\n",
       "      <td>2</td>\n",
       "      <td>1</td>\n",
       "      <td>1</td>\n",
       "      <td>Cumings, Mrs. John Bradley (Florence Briggs Th...</td>\n",
       "      <td>f</td>\n",
       "      <td>38.0</td>\n",
       "      <td>1</td>\n",
       "      <td>0</td>\n",
       "      <td>PC 17599</td>\n",
       "      <td>71</td>\n",
       "      <td>C85</td>\n",
       "      <td>C</td>\n",
       "    </tr>\n",
       "    <tr>\n",
       "      <th>2</th>\n",
       "      <td>3</td>\n",
       "      <td>1</td>\n",
       "      <td>3</td>\n",
       "      <td>Heikkinen, Miss. Laina</td>\n",
       "      <td>f</td>\n",
       "      <td>26.0</td>\n",
       "      <td>0</td>\n",
       "      <td>0</td>\n",
       "      <td>STON/O2. 3101282</td>\n",
       "      <td>7</td>\n",
       "      <td>None</td>\n",
       "      <td>S</td>\n",
       "    </tr>\n",
       "    <tr>\n",
       "      <th>3</th>\n",
       "      <td>4</td>\n",
       "      <td>1</td>\n",
       "      <td>1</td>\n",
       "      <td>Futrelle, Mrs. Jacques Heath (Lily May Peel)</td>\n",
       "      <td>f</td>\n",
       "      <td>35.0</td>\n",
       "      <td>1</td>\n",
       "      <td>0</td>\n",
       "      <td>113803</td>\n",
       "      <td>53</td>\n",
       "      <td>C123</td>\n",
       "      <td>S</td>\n",
       "    </tr>\n",
       "    <tr>\n",
       "      <th>4</th>\n",
       "      <td>5</td>\n",
       "      <td>0</td>\n",
       "      <td>3</td>\n",
       "      <td>Allen, Mr. William Henry</td>\n",
       "      <td>m</td>\n",
       "      <td>35.0</td>\n",
       "      <td>0</td>\n",
       "      <td>0</td>\n",
       "      <td>373450</td>\n",
       "      <td>8</td>\n",
       "      <td>None</td>\n",
       "      <td>S</td>\n",
       "    </tr>\n",
       "    <tr>\n",
       "      <th>5</th>\n",
       "      <td>6</td>\n",
       "      <td>0</td>\n",
       "      <td>3</td>\n",
       "      <td>Moran, Mr. James</td>\n",
       "      <td>m</td>\n",
       "      <td>NaN</td>\n",
       "      <td>0</td>\n",
       "      <td>0</td>\n",
       "      <td>330877</td>\n",
       "      <td>8</td>\n",
       "      <td>None</td>\n",
       "      <td>Q</td>\n",
       "    </tr>\n",
       "    <tr>\n",
       "      <th>6</th>\n",
       "      <td>7</td>\n",
       "      <td>0</td>\n",
       "      <td>1</td>\n",
       "      <td>McCarthy, Mr. Timothy J</td>\n",
       "      <td>m</td>\n",
       "      <td>54.0</td>\n",
       "      <td>0</td>\n",
       "      <td>0</td>\n",
       "      <td>17463</td>\n",
       "      <td>51</td>\n",
       "      <td>E46</td>\n",
       "      <td>S</td>\n",
       "    </tr>\n",
       "    <tr>\n",
       "      <th>7</th>\n",
       "      <td>8</td>\n",
       "      <td>0</td>\n",
       "      <td>3</td>\n",
       "      <td>Palsson, Master. Gosta Leonard</td>\n",
       "      <td>m</td>\n",
       "      <td>2.0</td>\n",
       "      <td>3</td>\n",
       "      <td>1</td>\n",
       "      <td>349909</td>\n",
       "      <td>21</td>\n",
       "      <td>None</td>\n",
       "      <td>S</td>\n",
       "    </tr>\n",
       "    <tr>\n",
       "      <th>8</th>\n",
       "      <td>9</td>\n",
       "      <td>1</td>\n",
       "      <td>3</td>\n",
       "      <td>Johnson, Mrs. Oscar W (Elisabeth Vilhelmina Berg)</td>\n",
       "      <td>f</td>\n",
       "      <td>27.0</td>\n",
       "      <td>0</td>\n",
       "      <td>2</td>\n",
       "      <td>347742</td>\n",
       "      <td>11</td>\n",
       "      <td>None</td>\n",
       "      <td>S</td>\n",
       "    </tr>\n",
       "    <tr>\n",
       "      <th>9</th>\n",
       "      <td>10</td>\n",
       "      <td>1</td>\n",
       "      <td>2</td>\n",
       "      <td>Nasser, Mrs. Nicholas (Adele Achem)</td>\n",
       "      <td>f</td>\n",
       "      <td>14.0</td>\n",
       "      <td>1</td>\n",
       "      <td>0</td>\n",
       "      <td>237736</td>\n",
       "      <td>30</td>\n",
       "      <td>None</td>\n",
       "      <td>C</td>\n",
       "    </tr>\n",
       "  </tbody>\n",
       "</table>\n",
       "</div>"
      ],
      "text/plain": [
       "   PASSENGERID  SURVIVED  PCLASS  \\\n",
       "0            1         0       3   \n",
       "1            2         1       1   \n",
       "2            3         1       3   \n",
       "3            4         1       1   \n",
       "4            5         0       3   \n",
       "5            6         0       3   \n",
       "6            7         0       1   \n",
       "7            8         0       3   \n",
       "8            9         1       3   \n",
       "9           10         1       2   \n",
       "\n",
       "                                                NAME SEX   AGE  SIBSP  PARCH  \\\n",
       "0                            Braund, Mr. Owen Harris   m  22.0      1      0   \n",
       "1  Cumings, Mrs. John Bradley (Florence Briggs Th...   f  38.0      1      0   \n",
       "2                             Heikkinen, Miss. Laina   f  26.0      0      0   \n",
       "3       Futrelle, Mrs. Jacques Heath (Lily May Peel)   f  35.0      1      0   \n",
       "4                           Allen, Mr. William Henry   m  35.0      0      0   \n",
       "5                                   Moran, Mr. James   m   NaN      0      0   \n",
       "6                            McCarthy, Mr. Timothy J   m  54.0      0      0   \n",
       "7                     Palsson, Master. Gosta Leonard   m   2.0      3      1   \n",
       "8  Johnson, Mrs. Oscar W (Elisabeth Vilhelmina Berg)   f  27.0      0      2   \n",
       "9                Nasser, Mrs. Nicholas (Adele Achem)   f  14.0      1      0   \n",
       "\n",
       "             TICKET  FARE CABIN EMBARKED  \n",
       "0         A/5 21171     7  None        S  \n",
       "1          PC 17599    71   C85        C  \n",
       "2  STON/O2. 3101282     7  None        S  \n",
       "3            113803    53  C123        S  \n",
       "4            373450     8  None        S  \n",
       "5            330877     8  None        Q  \n",
       "6             17463    51   E46        S  \n",
       "7            349909    21  None        S  \n",
       "8            347742    11  None        S  \n",
       "9            237736    30  None        C  "
      ]
     },
     "execution_count": 10,
     "metadata": {},
     "output_type": "execute_result"
    }
   ],
   "source": [
    "hdf_train_first10recs.collect()"
   ]
  },
  {
   "cell_type": "markdown",
   "id": "41ea53a8-c225-4717-81d6-5dfb8f240c3a",
   "metadata": {},
   "source": [
    "You use [HANA `DataFrame` methods](https://help.sap.com/doc/cd94b08fe2e041c2ba778374572ddba9/2023_3_QRC/en-US/hana_ml.dataframe.html#hana_ml.dataframe.DataFrame) to query the data from SAP HANA database."
   ]
  },
  {
   "cell_type": "code",
   "execution_count": 12,
   "id": "45a3d63d-b91c-4412-b55a-eea9b78fa48c",
   "metadata": {},
   "outputs": [
    {
     "name": "stdout",
     "output_type": "stream",
     "text": [
      "SELECT T0.\"VALUES\", T1.\"NUM_PCLASS\"\n",
      "FROM (SELECT DISTINCT \"VALUES\" FROM ((SELECT CAST(\"VALUES\" AS NVARCHAR(255)) AS \"VALUES\" FROM (SELECT \"PCLASS\" AS \"VALUES\" FROM (SELECT \"PCLASS\" FROM (SELECT * FROM \"DB_1\".\"TITANIC\") AS \"DT_3\") AS \"DT_6\") AS \"DT_7\")) AS \"DT_13\") T0 LEFT OUTER JOIN (SELECT CAST(\"PCLASS\" AS NVARCHAR(255)) AS \"PCLASS\", \"NUM_PCLASS\" FROM (SELECT \"PCLASS\", count(\"PCLASS\") AS \"NUM_PCLASS\" FROM (SELECT * FROM \"DB_1\".\"TITANIC\") AS \"DT_3\" GROUP BY \"PCLASS\") AS \"DT_9\") T1\n",
      " ON T0.\"VALUES\" = T1.\"PCLASS\"\n",
      "\n"
     ]
    }
   ],
   "source": [
    "print(hdf_train.value_counts(['PCLASS']).select_statement)"
   ]
  },
  {
   "cell_type": "code",
   "execution_count": 13,
   "id": "7c576022-8b0e-46c6-b85f-7c2442130cbf",
   "metadata": {},
   "outputs": [
    {
     "data": {
      "text/html": [
       "<div>\n",
       "<style scoped>\n",
       "    .dataframe tbody tr th:only-of-type {\n",
       "        vertical-align: middle;\n",
       "    }\n",
       "\n",
       "    .dataframe tbody tr th {\n",
       "        vertical-align: top;\n",
       "    }\n",
       "\n",
       "    .dataframe thead th {\n",
       "        text-align: right;\n",
       "    }\n",
       "</style>\n",
       "<table border=\"1\" class=\"dataframe\">\n",
       "  <thead>\n",
       "    <tr style=\"text-align: right;\">\n",
       "      <th></th>\n",
       "      <th>VALUES</th>\n",
       "      <th>NUM_PCLASS</th>\n",
       "    </tr>\n",
       "  </thead>\n",
       "  <tbody>\n",
       "    <tr>\n",
       "      <th>0</th>\n",
       "      <td>2</td>\n",
       "      <td>184</td>\n",
       "    </tr>\n",
       "    <tr>\n",
       "      <th>1</th>\n",
       "      <td>1</td>\n",
       "      <td>216</td>\n",
       "    </tr>\n",
       "    <tr>\n",
       "      <th>2</th>\n",
       "      <td>3</td>\n",
       "      <td>491</td>\n",
       "    </tr>\n",
       "  </tbody>\n",
       "</table>\n",
       "</div>"
      ],
      "text/plain": [
       "  VALUES  NUM_PCLASS\n",
       "0      2         184\n",
       "1      1         216\n",
       "2      3         491"
      ]
     },
     "execution_count": 13,
     "metadata": {},
     "output_type": "execute_result"
    }
   ],
   "source": [
    "hdf_train.value_counts(['PCLASS']).collect()"
   ]
  },
  {
   "cell_type": "code",
   "execution_count": 17,
   "id": "9cacebc6-e43e-42bf-867b-53b759248c4c",
   "metadata": {},
   "outputs": [
    {
     "name": "stdout",
     "output_type": "stream",
     "text": [
      "SELECT * FROM (SELECT T0.\"VALUES\", T1.\"NUM_PCLASS\"\n",
      "FROM (SELECT DISTINCT \"VALUES\" FROM ((SELECT CAST(\"VALUES\" AS NVARCHAR(255)) AS \"VALUES\" FROM (SELECT \"PCLASS\" AS \"VALUES\" FROM (SELECT \"PCLASS\" FROM (SELECT * FROM \"DB_1\".\"TITANIC\") AS \"DT_3\") AS \"DT_46\") AS \"DT_47\")) AS \"DT_53\") T0 LEFT OUTER JOIN (SELECT CAST(\"PCLASS\" AS NVARCHAR(255)) AS \"PCLASS\", \"NUM_PCLASS\" FROM (SELECT \"PCLASS\", count(\"PCLASS\") AS \"NUM_PCLASS\" FROM (SELECT * FROM \"DB_1\".\"TITANIC\") AS \"DT_3\" GROUP BY \"PCLASS\") AS \"DT_49\") T1\n",
      " ON T0.\"VALUES\" = T1.\"PCLASS\"\n",
      ") AS \"DT_55\" ORDER BY \"NUM_PCLASS\" DESC\n"
     ]
    }
   ],
   "source": [
    "print(hdf_train.value_counts(['PCLASS']).sort('NUM_PCLASS', desc=True).select_statement)"
   ]
  },
  {
   "cell_type": "code",
   "execution_count": 19,
   "id": "765ca3fa-28c7-43df-be77-cdd8cc686bde",
   "metadata": {},
   "outputs": [
    {
     "data": {
      "text/html": [
       "<div>\n",
       "<style scoped>\n",
       "    .dataframe tbody tr th:only-of-type {\n",
       "        vertical-align: middle;\n",
       "    }\n",
       "\n",
       "    .dataframe tbody tr th {\n",
       "        vertical-align: top;\n",
       "    }\n",
       "\n",
       "    .dataframe thead th {\n",
       "        text-align: right;\n",
       "    }\n",
       "</style>\n",
       "<table border=\"1\" class=\"dataframe\">\n",
       "  <thead>\n",
       "    <tr style=\"text-align: right;\">\n",
       "      <th></th>\n",
       "      <th>VALUES</th>\n",
       "      <th>NUM_PCLASS</th>\n",
       "    </tr>\n",
       "  </thead>\n",
       "  <tbody>\n",
       "    <tr>\n",
       "      <th>0</th>\n",
       "      <td>3</td>\n",
       "      <td>491</td>\n",
       "    </tr>\n",
       "    <tr>\n",
       "      <th>1</th>\n",
       "      <td>1</td>\n",
       "      <td>216</td>\n",
       "    </tr>\n",
       "    <tr>\n",
       "      <th>2</th>\n",
       "      <td>2</td>\n",
       "      <td>184</td>\n",
       "    </tr>\n",
       "  </tbody>\n",
       "</table>\n",
       "</div>"
      ],
      "text/plain": [
       "  VALUES  NUM_PCLASS\n",
       "0      3         491\n",
       "1      1         216\n",
       "2      2         184"
      ]
     },
     "execution_count": 19,
     "metadata": {},
     "output_type": "execute_result"
    }
   ],
   "source": [
    "hdf_train.value_counts(['PCLASS']).sort('NUM_PCLASS', desc=True).collect()"
   ]
  },
  {
   "cell_type": "markdown",
   "id": "dfe23c4c-9c71-4e28-910f-8165b6021c70",
   "metadata": {},
   "source": [
    "You use [Pandas `DataFrame` and/or `Series`](https://pandas.pydata.org/docs/user_guide/10min.html#minutes-to-pandas) methods to query the data returned to a client as a result of the `collect()` method."
   ]
  },
  {
   "cell_type": "code",
   "execution_count": 20,
   "id": "91cb7fa5-a216-4812-a54e-3967a6125950",
   "metadata": {},
   "outputs": [
    {
     "data": {
      "text/html": [
       "<div>\n",
       "<style scoped>\n",
       "    .dataframe tbody tr th:only-of-type {\n",
       "        vertical-align: middle;\n",
       "    }\n",
       "\n",
       "    .dataframe tbody tr th {\n",
       "        vertical-align: top;\n",
       "    }\n",
       "\n",
       "    .dataframe thead th {\n",
       "        text-align: right;\n",
       "    }\n",
       "</style>\n",
       "<table border=\"1\" class=\"dataframe\">\n",
       "  <thead>\n",
       "    <tr style=\"text-align: right;\">\n",
       "      <th></th>\n",
       "      <th>VALUES</th>\n",
       "      <th>NUM_PCLASS</th>\n",
       "    </tr>\n",
       "  </thead>\n",
       "  <tbody>\n",
       "    <tr>\n",
       "      <th>0</th>\n",
       "      <td>2</td>\n",
       "      <td>184</td>\n",
       "    </tr>\n",
       "    <tr>\n",
       "      <th>1</th>\n",
       "      <td>1</td>\n",
       "      <td>216</td>\n",
       "    </tr>\n",
       "    <tr>\n",
       "      <th>2</th>\n",
       "      <td>3</td>\n",
       "      <td>491</td>\n",
       "    </tr>\n",
       "  </tbody>\n",
       "</table>\n",
       "</div>"
      ],
      "text/plain": [
       "  VALUES  NUM_PCLASS\n",
       "0      2         184\n",
       "1      1         216\n",
       "2      3         491"
      ]
     },
     "execution_count": 20,
     "metadata": {},
     "output_type": "execute_result"
    }
   ],
   "source": [
    "hdf_train.value_counts(['PCLASS']).collect().sort_values('NUM_PCLASS')"
   ]
  },
  {
   "attachments": {},
   "cell_type": "markdown",
   "id": "3c7ec115-6c8b-42dd-b840-8fdaf805c384",
   "metadata": {},
   "source": [
    "🤓 **Let's discuss**:\n",
    "1. HANA DataFrames\n",
    "2. Pandas DataFrames/Series"
   ]
  },
  {
   "cell_type": "markdown",
   "id": "12b44d21",
   "metadata": {},
   "source": []
  }
 ],
 "metadata": {
  "kernelspec": {
   "display_name": "Python 3 (ipykernel)",
   "language": "python",
   "name": "python3"
  },
  "language_info": {
   "codemirror_mode": {
    "name": "ipython",
    "version": 3
   },
   "file_extension": ".py",
   "mimetype": "text/x-python",
   "name": "python",
   "nbconvert_exporter": "python",
   "pygments_lexer": "ipython3",
   "version": "3.11.2"
  }
 },
 "nbformat": 4,
 "nbformat_minor": 5
}
